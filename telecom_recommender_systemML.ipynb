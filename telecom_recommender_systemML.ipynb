{
 "cells": [
  {
   "cell_type": "markdown",
   "metadata": {},
   "source": [
    "# Machine Learning for phone plan recommendation"
   ]
  },
  {
   "cell_type": "markdown",
   "metadata": {},
   "source": [
    "Mobile carrier Megaline has found out that many of their subscribers use legacy plans. They want to develop a model that would analyze subscribers' behavior and recommend one of Megaline's newer plans: Smart or Ultra. You have access to behavior data about subscribers who have already switched to the new plans (from the project for the Statistical Data Analysis course). For this classification task, you need to develop a model that will pick the right plan. Since you’ve already performed the data preprocessing step, you can move straight to creating the model.\n",
    "\n",
    "Develop a model with the highest possible accuracy. In this project, the threshold for accuracy is 0.75. Check the accuracy using the test dataset."
   ]
  },
  {
   "cell_type": "markdown",
   "metadata": {},
   "source": [
    "## Data description"
   ]
  },
  {
   "cell_type": "markdown",
   "metadata": {},
   "source": [
    "Every observation in the dataset contains monthly behavior information about one user. The information given is as follows:\n",
    "\n",
    " - `сalls` — number of calls,\n",
    " - `minutes` — total call duration in minutes,\n",
    " - `messages` — number of text messages,\n",
    " - `mb_used` — Internet traffic used in MB,\n",
    " - `is_ultra` — plan for the current month (Ultra - 1, Smart - 0)."
   ]
  },
  {
   "cell_type": "markdown",
   "metadata": {},
   "source": [
    "## Objectives\n",
    "\n",
    "The objectives of this project is to:\n",
    "- Develop a model that would analyze subscribers' behavior\n",
    "- Build a machine learning model to recommend the right plan based on subscribers' behavior "
   ]
  },
  {
   "cell_type": "markdown",
   "metadata": {},
   "source": [
    "<hr>\n",
    "\n",
    " # Table of contents\n",
    "\n",
    "<div class=\"alert alert-block alert-info\" style=\"margin-top: 20px\">\n",
    "    <ol>\n",
    "        <li><a href=\"#open_the_data\">Open the data file and study the general information</a></li>\n",
    "        <li><a href=\"#data_splitting\">Split the source data</a></li>\n",
    "        <li><a href=\"#investigate_models\">Investigate different models quality</a></li>\n",
    "        <li><a href=\"#check_quality\">Check model quality</a></li>\n",
    "        <li><a href=\"#sanity_check\">Sanity check the model</a></li>\n",
    "        <li><a href=\"#overall_conclusion\">Overall conclusion</a></li>\n",
    "    </ol>\n",
    "</div>\n",
    "<br>\n",
    "<hr>"
   ]
  },
  {
   "cell_type": "markdown",
   "metadata": {},
   "source": [
    "<div id=\"open_the_data\">\n",
    "    <h2>Open the data file and study the general information</h2> \n",
    "</div>"
   ]
  },
  {
   "cell_type": "markdown",
   "metadata": {},
   "source": [
    "We require the following libraries: *pandas* and *numpy* for data preprocessing and manipulation, *Scikit-Learn* for building our learning algorithms"
   ]
  },
  {
   "cell_type": "code",
   "execution_count": 1,
   "metadata": {},
   "outputs": [
    {
     "name": "stdout",
     "output_type": "stream",
     "text": [
      "Project libraries has been successfully been imported!\n"
     ]
    }
   ],
   "source": [
    "# import pandas and numpy for data preprocessing and manipulation\n",
    "import numpy as np\n",
    "import pandas as pd\n",
    "\n",
    "# matplotlib for visualization\n",
    "import matplotlib.pyplot as plt\n",
    "%matplotlib inline\n",
    "\n",
    "# import train_test_split to split data\n",
    "from sklearn.model_selection import train_test_split\n",
    "\n",
    "# import machine learning module from the sklearn library\n",
    "from sklearn.tree import DecisionTreeClassifier # import decision tree classifier\n",
    "from sklearn.linear_model import LogisticRegression # import logistic regression \n",
    "from sklearn.ensemble import RandomForestClassifier # import random forest algorithm\n",
    "from sklearn.ensemble import AdaBoostClassifier # import adaboost classifier algorithm\n",
    "\n",
    "# import metrics for sanity check on model\n",
    "from sklearn.metrics import accuracy_score\n",
    "from sklearn.metrics import confusion_matrix, classification_report\n",
    "from sklearn.metrics import precision_score, recall_score, f1_score\n",
    "from sklearn.metrics import balanced_accuracy_score, roc_auc_score\n",
    "\n",
    "print('Project libraries has been successfully been imported!')"
   ]
  },
  {
   "cell_type": "code",
   "execution_count": 2,
   "metadata": {},
   "outputs": [
    {
     "name": "stdout",
     "output_type": "stream",
     "text": [
      "Data has been read correctly!\n"
     ]
    }
   ],
   "source": [
    "# read the data\n",
    "try:\n",
    "    df = pd.read_csv('https://code.s3.yandex.net/datasets/users_behavior.csv')\n",
    "except:\n",
    "    df = pd.read_csv('C:/Users/hotty/Desktop/Practicum by Yandex/Projects/Introduction to Machine Learning/users_behavior.csv')\n",
    "print('Data has been read correctly!')"
   ]
  },
  {
   "cell_type": "code",
   "execution_count": 3,
   "metadata": {},
   "outputs": [],
   "source": [
    "# function to determine if columns in file have null values\n",
    "def get_percent_of_na(df, num):\n",
    "    count = 0\n",
    "    df = df.copy()\n",
    "    s = (df.isna().sum() / df.shape[0])\n",
    "    for column, percent in zip(s.index, s.values):\n",
    "        num_of_nulls = df[column].isna().sum()\n",
    "        if num_of_nulls == 0:\n",
    "            continue\n",
    "        else:\n",
    "            count += 1\n",
    "        print('Column {} has {:.{}%} percent of Nulls, and {} of nulls'.format(column, percent, num, num_of_nulls))\n",
    "    if count != 0:\n",
    "        print(\"\\033[1m\" + 'There are {} columns with NA.'.format(count) + \"\\033[0m\")\n",
    "    else:\n",
    "        print()\n",
    "        print(\"\\033[1m\" + 'There are no columns with NA.' + \"\\033[0m\")\n",
    "        \n",
    "# function to display general information about the dataset\n",
    "def get_info(df):\n",
    "    \"\"\"\n",
    "    This function uses the head(), info(), describe(), shape() and duplicated() \n",
    "    methods to display the general information about the dataset.\n",
    "    \"\"\"\n",
    "    print(\"\\033[1m\" + '-'*100 + \"\\033[0m\")\n",
    "    print('Head:')\n",
    "    print()\n",
    "    display(df.head())\n",
    "    print('-'*100)\n",
    "    print('Info:')\n",
    "    print()\n",
    "    display(df.info())\n",
    "    print('-'*100)\n",
    "    print('Describe:')\n",
    "    print()\n",
    "    display(df.describe())\n",
    "    print('-'*100)\n",
    "    display(df.describe)\n",
    "    print()\n",
    "    print('Columns with nulls:')\n",
    "    display(get_percent_of_na(df, 4))  # check this out\n",
    "    print('-'*100)\n",
    "    print('Shape:')\n",
    "    print(df.shape)\n",
    "    print('-'*100)\n",
    "    print('Duplicated:')\n",
    "    print(\"\\033[1m\" + 'We have {} duplicated rows.\\n'.format(df.duplicated().sum()) + \"\\033[0m\")\n",
    "    print()"
   ]
  },
  {
   "cell_type": "code",
   "execution_count": 4,
   "metadata": {},
   "outputs": [
    {
     "name": "stdout",
     "output_type": "stream",
     "text": [
      "General information about the dataframe\n",
      "\u001b[1m----------------------------------------------------------------------------------------------------\u001b[0m\n",
      "Head:\n",
      "\n"
     ]
    },
    {
     "data": {
      "text/html": [
       "<div>\n",
       "<style scoped>\n",
       "    .dataframe tbody tr th:only-of-type {\n",
       "        vertical-align: middle;\n",
       "    }\n",
       "\n",
       "    .dataframe tbody tr th {\n",
       "        vertical-align: top;\n",
       "    }\n",
       "\n",
       "    .dataframe thead th {\n",
       "        text-align: right;\n",
       "    }\n",
       "</style>\n",
       "<table border=\"1\" class=\"dataframe\">\n",
       "  <thead>\n",
       "    <tr style=\"text-align: right;\">\n",
       "      <th></th>\n",
       "      <th>calls</th>\n",
       "      <th>minutes</th>\n",
       "      <th>messages</th>\n",
       "      <th>mb_used</th>\n",
       "      <th>is_ultra</th>\n",
       "    </tr>\n",
       "  </thead>\n",
       "  <tbody>\n",
       "    <tr>\n",
       "      <th>0</th>\n",
       "      <td>40.0</td>\n",
       "      <td>311.90</td>\n",
       "      <td>83.0</td>\n",
       "      <td>19915.42</td>\n",
       "      <td>0</td>\n",
       "    </tr>\n",
       "    <tr>\n",
       "      <th>1</th>\n",
       "      <td>85.0</td>\n",
       "      <td>516.75</td>\n",
       "      <td>56.0</td>\n",
       "      <td>22696.96</td>\n",
       "      <td>0</td>\n",
       "    </tr>\n",
       "    <tr>\n",
       "      <th>2</th>\n",
       "      <td>77.0</td>\n",
       "      <td>467.66</td>\n",
       "      <td>86.0</td>\n",
       "      <td>21060.45</td>\n",
       "      <td>0</td>\n",
       "    </tr>\n",
       "    <tr>\n",
       "      <th>3</th>\n",
       "      <td>106.0</td>\n",
       "      <td>745.53</td>\n",
       "      <td>81.0</td>\n",
       "      <td>8437.39</td>\n",
       "      <td>1</td>\n",
       "    </tr>\n",
       "    <tr>\n",
       "      <th>4</th>\n",
       "      <td>66.0</td>\n",
       "      <td>418.74</td>\n",
       "      <td>1.0</td>\n",
       "      <td>14502.75</td>\n",
       "      <td>0</td>\n",
       "    </tr>\n",
       "  </tbody>\n",
       "</table>\n",
       "</div>"
      ],
      "text/plain": [
       "   calls  minutes  messages   mb_used  is_ultra\n",
       "0   40.0   311.90      83.0  19915.42         0\n",
       "1   85.0   516.75      56.0  22696.96         0\n",
       "2   77.0   467.66      86.0  21060.45         0\n",
       "3  106.0   745.53      81.0   8437.39         1\n",
       "4   66.0   418.74       1.0  14502.75         0"
      ]
     },
     "metadata": {},
     "output_type": "display_data"
    },
    {
     "name": "stdout",
     "output_type": "stream",
     "text": [
      "----------------------------------------------------------------------------------------------------\n",
      "Info:\n",
      "\n",
      "<class 'pandas.core.frame.DataFrame'>\n",
      "RangeIndex: 3214 entries, 0 to 3213\n",
      "Data columns (total 5 columns):\n",
      " #   Column    Non-Null Count  Dtype  \n",
      "---  ------    --------------  -----  \n",
      " 0   calls     3214 non-null   float64\n",
      " 1   minutes   3214 non-null   float64\n",
      " 2   messages  3214 non-null   float64\n",
      " 3   mb_used   3214 non-null   float64\n",
      " 4   is_ultra  3214 non-null   int64  \n",
      "dtypes: float64(4), int64(1)\n",
      "memory usage: 125.7 KB\n"
     ]
    },
    {
     "data": {
      "text/plain": [
       "None"
      ]
     },
     "metadata": {},
     "output_type": "display_data"
    },
    {
     "name": "stdout",
     "output_type": "stream",
     "text": [
      "----------------------------------------------------------------------------------------------------\n",
      "Describe:\n",
      "\n"
     ]
    },
    {
     "data": {
      "text/html": [
       "<div>\n",
       "<style scoped>\n",
       "    .dataframe tbody tr th:only-of-type {\n",
       "        vertical-align: middle;\n",
       "    }\n",
       "\n",
       "    .dataframe tbody tr th {\n",
       "        vertical-align: top;\n",
       "    }\n",
       "\n",
       "    .dataframe thead th {\n",
       "        text-align: right;\n",
       "    }\n",
       "</style>\n",
       "<table border=\"1\" class=\"dataframe\">\n",
       "  <thead>\n",
       "    <tr style=\"text-align: right;\">\n",
       "      <th></th>\n",
       "      <th>calls</th>\n",
       "      <th>minutes</th>\n",
       "      <th>messages</th>\n",
       "      <th>mb_used</th>\n",
       "      <th>is_ultra</th>\n",
       "    </tr>\n",
       "  </thead>\n",
       "  <tbody>\n",
       "    <tr>\n",
       "      <th>count</th>\n",
       "      <td>3214.000000</td>\n",
       "      <td>3214.000000</td>\n",
       "      <td>3214.000000</td>\n",
       "      <td>3214.000000</td>\n",
       "      <td>3214.000000</td>\n",
       "    </tr>\n",
       "    <tr>\n",
       "      <th>mean</th>\n",
       "      <td>63.038892</td>\n",
       "      <td>438.208787</td>\n",
       "      <td>38.281269</td>\n",
       "      <td>17207.673836</td>\n",
       "      <td>0.306472</td>\n",
       "    </tr>\n",
       "    <tr>\n",
       "      <th>std</th>\n",
       "      <td>33.236368</td>\n",
       "      <td>234.569872</td>\n",
       "      <td>36.148326</td>\n",
       "      <td>7570.968246</td>\n",
       "      <td>0.461100</td>\n",
       "    </tr>\n",
       "    <tr>\n",
       "      <th>min</th>\n",
       "      <td>0.000000</td>\n",
       "      <td>0.000000</td>\n",
       "      <td>0.000000</td>\n",
       "      <td>0.000000</td>\n",
       "      <td>0.000000</td>\n",
       "    </tr>\n",
       "    <tr>\n",
       "      <th>25%</th>\n",
       "      <td>40.000000</td>\n",
       "      <td>274.575000</td>\n",
       "      <td>9.000000</td>\n",
       "      <td>12491.902500</td>\n",
       "      <td>0.000000</td>\n",
       "    </tr>\n",
       "    <tr>\n",
       "      <th>50%</th>\n",
       "      <td>62.000000</td>\n",
       "      <td>430.600000</td>\n",
       "      <td>30.000000</td>\n",
       "      <td>16943.235000</td>\n",
       "      <td>0.000000</td>\n",
       "    </tr>\n",
       "    <tr>\n",
       "      <th>75%</th>\n",
       "      <td>82.000000</td>\n",
       "      <td>571.927500</td>\n",
       "      <td>57.000000</td>\n",
       "      <td>21424.700000</td>\n",
       "      <td>1.000000</td>\n",
       "    </tr>\n",
       "    <tr>\n",
       "      <th>max</th>\n",
       "      <td>244.000000</td>\n",
       "      <td>1632.060000</td>\n",
       "      <td>224.000000</td>\n",
       "      <td>49745.730000</td>\n",
       "      <td>1.000000</td>\n",
       "    </tr>\n",
       "  </tbody>\n",
       "</table>\n",
       "</div>"
      ],
      "text/plain": [
       "             calls      minutes     messages       mb_used     is_ultra\n",
       "count  3214.000000  3214.000000  3214.000000   3214.000000  3214.000000\n",
       "mean     63.038892   438.208787    38.281269  17207.673836     0.306472\n",
       "std      33.236368   234.569872    36.148326   7570.968246     0.461100\n",
       "min       0.000000     0.000000     0.000000      0.000000     0.000000\n",
       "25%      40.000000   274.575000     9.000000  12491.902500     0.000000\n",
       "50%      62.000000   430.600000    30.000000  16943.235000     0.000000\n",
       "75%      82.000000   571.927500    57.000000  21424.700000     1.000000\n",
       "max     244.000000  1632.060000   224.000000  49745.730000     1.000000"
      ]
     },
     "metadata": {},
     "output_type": "display_data"
    },
    {
     "name": "stdout",
     "output_type": "stream",
     "text": [
      "----------------------------------------------------------------------------------------------------\n"
     ]
    },
    {
     "data": {
      "text/plain": [
       "<bound method NDFrame.describe of       calls  minutes  messages   mb_used  is_ultra\n",
       "0      40.0   311.90      83.0  19915.42         0\n",
       "1      85.0   516.75      56.0  22696.96         0\n",
       "2      77.0   467.66      86.0  21060.45         0\n",
       "3     106.0   745.53      81.0   8437.39         1\n",
       "4      66.0   418.74       1.0  14502.75         0\n",
       "...     ...      ...       ...       ...       ...\n",
       "3209  122.0   910.98      20.0  35124.90         1\n",
       "3210   25.0   190.36       0.0   3275.61         0\n",
       "3211   97.0   634.44      70.0  13974.06         0\n",
       "3212   64.0   462.32      90.0  31239.78         0\n",
       "3213   80.0   566.09       6.0  29480.52         1\n",
       "\n",
       "[3214 rows x 5 columns]>"
      ]
     },
     "metadata": {},
     "output_type": "display_data"
    },
    {
     "name": "stdout",
     "output_type": "stream",
     "text": [
      "\n",
      "Columns with nulls:\n",
      "\n",
      "\u001b[1mThere are no columns with NA.\u001b[0m\n"
     ]
    },
    {
     "data": {
      "text/plain": [
       "None"
      ]
     },
     "metadata": {},
     "output_type": "display_data"
    },
    {
     "name": "stdout",
     "output_type": "stream",
     "text": [
      "----------------------------------------------------------------------------------------------------\n",
      "Shape:\n",
      "(3214, 5)\n",
      "----------------------------------------------------------------------------------------------------\n",
      "Duplicated:\n",
      "\u001b[1mWe have 0 duplicated rows.\n",
      "\u001b[0m\n",
      "\n"
     ]
    }
   ],
   "source": [
    "# study the general information about the dataset \n",
    "print('General information about the dataframe')\n",
    "get_info(df)"
   ]
  },
  {
   "cell_type": "markdown",
   "metadata": {},
   "source": [
    "**Conclusion**\n",
    "\n",
    "Since the data have already been preprocessed, we see there are no duplicated rows, or missing values as expected. Now that our data is ready for modeling, let's start by splitting the source dataset into a training set, validation set, and test set using a ratio 3:1:1 or 60% training set, 20% validation set, and 20% testing sets."
   ]
  },
  {
   "cell_type": "markdown",
   "metadata": {},
   "source": [
    "<div id=\"data_splitting\">\n",
    "    <h2>Split the source data</h2> \n",
    "</div>"
   ]
  },
  {
   "cell_type": "markdown",
   "metadata": {},
   "source": [
    "To split the data into training set, validation set, and test set we use `sklearn.model_selection.train_test_split` twice. First we split the data into train and test with 20% of split data being the test data. Then we split the 80% train data obtained from the first split into validation and train. "
   ]
  },
  {
   "cell_type": "code",
   "execution_count": 5,
   "metadata": {},
   "outputs": [],
   "source": [
    "# split data into training and testing \n",
    "df_train, df_test = train_test_split(df, test_size=0.20, random_state=12345)\n",
    "\n",
    "# split train data into validation and train \n",
    "df_train, df_valid = train_test_split(df_train, test_size=0.25, random_state=12345) # 0.25 * 0.80 = 0.20 for validation size"
   ]
  },
  {
   "cell_type": "code",
   "execution_count": 6,
   "metadata": {},
   "outputs": [
    {
     "name": "stdout",
     "output_type": "stream",
     "text": [
      "The train set now contains 1928 dataset representing 60% of the data\n",
      "The valid set now contains 643 dataset representing 20% of the data\n",
      "The test set now contains 643 dataset representing 20% of the data\n"
     ]
    }
   ],
   "source": [
    "# display the shape of the split dataset\n",
    "print('The train set now contains {}'.format(df_train.shape[0]) + ' dataset representing 60% of the data') \n",
    "print('The valid set now contains {}'.format(df_valid.shape[0]) + ' dataset representing 20% of the data')\n",
    "print('The test set now contains {}'.format(df_test.shape[0]) + ' dataset representing 20% of the data')"
   ]
  },
  {
   "cell_type": "code",
   "execution_count": 7,
   "metadata": {},
   "outputs": [
    {
     "name": "stdout",
     "output_type": "stream",
     "text": [
      "------------------------------\n",
      "Train features : (1928, 4)\n",
      "Train target   : (1928,)\n",
      "Valid features : (643, 4)\n",
      "Valid target   : (643,)\n",
      "Test features  : (643, 4)\n",
      "Test target    : (643,)\n"
     ]
    }
   ],
   "source": [
    "# declare variables for features and target \n",
    "features_train = df_train.drop(['is_ultra'], axis=1)\n",
    "target_train = df_train['is_ultra']\n",
    "features_valid = df_valid.drop(['is_ultra'], axis=1)\n",
    "target_valid = df_valid['is_ultra']\n",
    "features_test = df_test.drop(['is_ultra'], axis=1)\n",
    "target_test = df_test['is_ultra']\n",
    "\n",
    "print('-'*30)\n",
    "print('Train features :', features_train.shape)\n",
    "print('Train target   :',target_train.shape)\n",
    "print('Valid features :',features_valid.shape)\n",
    "print('Valid target   :',target_valid.shape)\n",
    "print('Test features  :',features_test.shape)\n",
    "print('Test target    :',target_test.shape)"
   ]
  },
  {
   "cell_type": "markdown",
   "metadata": {},
   "source": [
    "**Conclusion**\n",
    "\n",
    "We have been able to split the data three ways into 60% training set, 20% validation set, and 20% testing sets."
   ]
  },
  {
   "cell_type": "markdown",
   "metadata": {},
   "source": [
    "<div id=\"investigate_models\">\n",
    "    <h2>Investigate different models quality</h2> \n",
    "</div>"
   ]
  },
  {
   "cell_type": "markdown",
   "metadata": {},
   "source": [
    "#### Model development"
   ]
  },
  {
   "cell_type": "markdown",
   "metadata": {},
   "source": [
    "In this section, we proceed to build and investigate different model. Since this is a classification task, we would use the decision tree classifier, logistic regression, and random forest to develop the model. First we need to investigate different model before deciding on which model to use."
   ]
  },
  {
   "cell_type": "markdown",
   "metadata": {},
   "source": [
    "#### Hyperparameter Tuning"
   ]
  },
  {
   "cell_type": "markdown",
   "metadata": {},
   "source": [
    "##### Decision Tree Classifier"
   ]
  },
  {
   "cell_type": "markdown",
   "metadata": {},
   "source": [
    "For the decision tree classifier, we iterate over different values and compare the quality of the model by tuning the `max_depth` hyperparameter."
   ]
  },
  {
   "cell_type": "code",
   "execution_count": 8,
   "metadata": {},
   "outputs": [],
   "source": [
    "# create the decision tree classifier\n",
    "def decision_tree_classifier(X_train, y_train, X_valid, y_valid):\n",
    "    \"\"\"\n",
    "    This is a decision tree classifier function developed to train  \n",
    "    the model, make prediction on train and validation dataset, print\n",
    "    model accuracy for training and validation datasets and plot model \n",
    "    accuracy scores on train and validation sets for visual comparison\n",
    "    \"\"\"\n",
    "    # define lists to collect scores\n",
    "    train_scores = []\n",
    "    valid_scores = []\n",
    "    # define the tree depth\n",
    "    tree_depth = [i for i in range(1, 21)]\n",
    "    # create a loop for max_depth from 1 to 21\n",
    "    for depth in tree_depth:\n",
    "        model = DecisionTreeClassifier(random_state=12345, max_depth = depth) # create an instance of a class\n",
    "        model.fit(X_train, y_train) # train the model\n",
    "        # make predictions on train set\n",
    "        train_predictions = model.predict(X_train)\n",
    "        train_predictions_acc = accuracy_score(y_train, train_predictions)\n",
    "        train_scores.append(train_predictions_acc)\n",
    "        # make predictions on validation set\n",
    "        predictions_valid = model.predict(X_valid)\n",
    "        predictions_valid_acc = accuracy_score(y_valid, predictions_valid)\n",
    "        valid_scores.append(predictions_valid_acc)\n",
    "        print('Max depth and accuracy for decision tree classifier')\n",
    "        print('-'*40)\n",
    "        print(\"\\033[1m\" + 'max_depth = {}'.format(depth) + \"\\033[0m\")\n",
    "        print('Training set: {:.3f}'.format(accuracy_score(y_train, train_predictions)))\n",
    "        print('Validation set: {:.3f}'.format(accuracy_score(y_valid, predictions_valid)))\n",
    "        print()\n",
    "    # plot of train and validation scores vs tree depth\n",
    "    plt.figure(figsize=(10,6))\n",
    "    plt.plot(tree_depth, train_scores, '-*', label='Train')\n",
    "    plt.plot(tree_depth, valid_scores, '-o', label='Validation')\n",
    "    plt.title('Plot of train and validation scores vs tree depth')\n",
    "    plt.xlabel('Max depth')\n",
    "    plt.ylabel('Accuracy')\n",
    "    plt.legend()\n",
    "    plt.show()"
   ]
  },
  {
   "cell_type": "code",
   "execution_count": 9,
   "metadata": {},
   "outputs": [
    {
     "name": "stdout",
     "output_type": "stream",
     "text": [
      "Max depth and accuracy for decision tree classifier\n",
      "----------------------------------------\n",
      "\u001b[1mmax_depth = 1\u001b[0m\n",
      "Training set: 0.758\n",
      "Validation set: 0.739\n",
      "\n",
      "Max depth and accuracy for decision tree classifier\n",
      "----------------------------------------\n",
      "\u001b[1mmax_depth = 2\u001b[0m\n",
      "Training set: 0.792\n",
      "Validation set: 0.757\n",
      "\n",
      "Max depth and accuracy for decision tree classifier\n",
      "----------------------------------------\n",
      "\u001b[1mmax_depth = 3\u001b[0m\n",
      "Training set: 0.812\n",
      "Validation set: 0.765\n",
      "\n",
      "Max depth and accuracy for decision tree classifier\n",
      "----------------------------------------\n",
      "\u001b[1mmax_depth = 4\u001b[0m\n",
      "Training set: 0.821\n",
      "Validation set: 0.764\n",
      "\n",
      "Max depth and accuracy for decision tree classifier\n",
      "----------------------------------------\n",
      "\u001b[1mmax_depth = 5\u001b[0m\n",
      "Training set: 0.827\n",
      "Validation set: 0.759\n",
      "\n",
      "Max depth and accuracy for decision tree classifier\n",
      "----------------------------------------\n",
      "\u001b[1mmax_depth = 6\u001b[0m\n",
      "Training set: 0.834\n",
      "Validation set: 0.757\n",
      "\n",
      "Max depth and accuracy for decision tree classifier\n",
      "----------------------------------------\n",
      "\u001b[1mmax_depth = 7\u001b[0m\n",
      "Training set: 0.851\n",
      "Validation set: 0.774\n",
      "\n",
      "Max depth and accuracy for decision tree classifier\n",
      "----------------------------------------\n",
      "\u001b[1mmax_depth = 8\u001b[0m\n",
      "Training set: 0.866\n",
      "Validation set: 0.767\n",
      "\n",
      "Max depth and accuracy for decision tree classifier\n",
      "----------------------------------------\n",
      "\u001b[1mmax_depth = 9\u001b[0m\n",
      "Training set: 0.875\n",
      "Validation set: 0.762\n",
      "\n",
      "Max depth and accuracy for decision tree classifier\n",
      "----------------------------------------\n",
      "\u001b[1mmax_depth = 10\u001b[0m\n",
      "Training set: 0.891\n",
      "Validation set: 0.771\n",
      "\n",
      "Max depth and accuracy for decision tree classifier\n",
      "----------------------------------------\n",
      "\u001b[1mmax_depth = 11\u001b[0m\n",
      "Training set: 0.902\n",
      "Validation set: 0.759\n",
      "\n",
      "Max depth and accuracy for decision tree classifier\n",
      "----------------------------------------\n",
      "\u001b[1mmax_depth = 12\u001b[0m\n",
      "Training set: 0.915\n",
      "Validation set: 0.756\n",
      "\n",
      "Max depth and accuracy for decision tree classifier\n",
      "----------------------------------------\n",
      "\u001b[1mmax_depth = 13\u001b[0m\n",
      "Training set: 0.924\n",
      "Validation set: 0.750\n",
      "\n",
      "Max depth and accuracy for decision tree classifier\n",
      "----------------------------------------\n",
      "\u001b[1mmax_depth = 14\u001b[0m\n",
      "Training set: 0.937\n",
      "Validation set: 0.757\n",
      "\n",
      "Max depth and accuracy for decision tree classifier\n",
      "----------------------------------------\n",
      "\u001b[1mmax_depth = 15\u001b[0m\n",
      "Training set: 0.944\n",
      "Validation set: 0.753\n",
      "\n",
      "Max depth and accuracy for decision tree classifier\n",
      "----------------------------------------\n",
      "\u001b[1mmax_depth = 16\u001b[0m\n",
      "Training set: 0.951\n",
      "Validation set: 0.750\n",
      "\n",
      "Max depth and accuracy for decision tree classifier\n",
      "----------------------------------------\n",
      "\u001b[1mmax_depth = 17\u001b[0m\n",
      "Training set: 0.957\n",
      "Validation set: 0.739\n",
      "\n",
      "Max depth and accuracy for decision tree classifier\n",
      "----------------------------------------\n",
      "\u001b[1mmax_depth = 18\u001b[0m\n",
      "Training set: 0.964\n",
      "Validation set: 0.742\n",
      "\n",
      "Max depth and accuracy for decision tree classifier\n",
      "----------------------------------------\n",
      "\u001b[1mmax_depth = 19\u001b[0m\n",
      "Training set: 0.970\n",
      "Validation set: 0.736\n",
      "\n",
      "Max depth and accuracy for decision tree classifier\n",
      "----------------------------------------\n",
      "\u001b[1mmax_depth = 20\u001b[0m\n",
      "Training set: 0.976\n",
      "Validation set: 0.729\n",
      "\n"
     ]
    },
    {
     "data": {
      "image/png": "[encoded data removed]",
      "text/plain": [
       "<Figure size 720x432 with 1 Axes>"
      ]
     },
     "metadata": {
      "needs_background": "light"
     },
     "output_type": "display_data"
    }
   ],
   "source": [
    "# determine accuracy for decision tree classifier\n",
    "decision_tree_classifier(features_train, target_train, features_valid, target_valid)"
   ]
  },
  {
   "cell_type": "markdown",
   "metadata": {},
   "source": [
    "The decision tree classifier can determines the right plan when we run a learning algorithm to train the model to make predictions. We created a loop for `max_depth` hyperparameter from 1 to 20 to see what depth gives us the best fit. We note that shallow decision trees (e.g. few depth) generally do not overfit but have poor performance (high bias, low variance), and deep trees (e.g. high depth) generally do overfit and have good performance (low bias, high variance). Our desirable tree depth is one that is not so shallow that it has low performance and not so deep that it overfits the training dataset. We need to have a balance between bias and variance - bias variance tradeoff. We plot the model accuracy scores on the train and validation sets to visualize this. Notice how the accuracy of the validation test keeps increasing until it gets to `max_depth` of 4. After this depth, the accuracy starts to decline. At `max_depth` of 4, we have an accuracy of 82.05% for the training set, and 76.36% for the validation set. We choose a tree depth of 4 before the model begins to overfit the training dataset. "
   ]
  },
  {
   "cell_type": "markdown",
   "metadata": {},
   "source": [
    "##### Logistic Regression Model"
   ]
  },
  {
   "cell_type": "code",
   "execution_count": 10,
   "metadata": {},
   "outputs": [],
   "source": [
    "# create the logistic regression model\n",
    "def logistic_regression(X_train, y_train, X_valid, y_valid):\n",
    "    \"\"\"\n",
    "    This is a logistic regression model function developed to train\n",
    "    the model, make prediction on train and validation dataset, print\n",
    "    model accuracy for training and validation datasets\n",
    "    \"\"\"\n",
    "    model = LogisticRegression(random_state=12345, solver='liblinear')\n",
    "    model.fit(X_train, y_train) # train the model \n",
    "    model.score(X_train, y_train) # check the model's accuracy with score() method\n",
    "    train_predictions = model.predict(X_train) # make predictions on train set\n",
    "    predictions_valid = model.predict(X_valid) # make predictions on validation set\n",
    "    print('Accuracy for logistic regression model')\n",
    "    print('-'*40)\n",
    "    print('Training set:', accuracy_score(y_train, train_predictions))\n",
    "    print('Validation set:', accuracy_score(y_valid, predictions_valid))"
   ]
  },
  {
   "cell_type": "code",
   "execution_count": 11,
   "metadata": {},
   "outputs": [
    {
     "name": "stdout",
     "output_type": "stream",
     "text": [
      "Accuracy for logistic regression model\n",
      "----------------------------------------\n",
      "Training set: 0.7028008298755186\n",
      "Validation set: 0.6998444790046656\n"
     ]
    }
   ],
   "source": [
    "# determine accuracy for logistic regression model\n",
    "logistic_regression(features_train, target_train, features_valid, target_valid)"
   ]
  },
  {
   "cell_type": "markdown",
   "metadata": {},
   "source": [
    "Although the model training is fast, the accuracy is lower. The logistic regression model gave an accuracy of 70.28% for the training set, and about 70% for the validation sets. This is lower than our target 75% accuracy. We can see here that neither the training nor the validation score is high. This is because the model is not complex enough hence underfitting occurs. We cannot use this model since both training and validation scores are low."
   ]
  },
  {
   "cell_type": "markdown",
   "metadata": {},
   "source": [
    "##### AdaBoostClassifier"
   ]
  },
  {
   "cell_type": "code",
   "execution_count": 12,
   "metadata": {},
   "outputs": [],
   "source": [
    "def adaboost_classifier(X_train, y_train, X_valid, y_valid):\n",
    "    \"\"\"\n",
    "    This is an Adaboost classifier function developed to train\n",
    "    the model, make prediction on train and validation dataset, print\n",
    "    model accuracy for training and validation datasets\n",
    "    \"\"\"\n",
    "    model = AdaBoostClassifier(random_state=12345, n_estimators=5)\n",
    "    model.fit(X_train, y_train) # train the model \n",
    "    model.score(X_train, y_train) # check the model's accuracy with score() method\n",
    "    train_predictions = model.predict(X_train) # make predictions on train set\n",
    "    predictions_valid = model.predict(X_valid) # make predictions on validation set\n",
    "    print('Accuracy for Adaboost classifier')\n",
    "    print('-'*40)\n",
    "    print('Training set:', accuracy_score(y_train, train_predictions))\n",
    "    print('Validation set:', accuracy_score(y_valid, predictions_valid))"
   ]
  },
  {
   "cell_type": "code",
   "execution_count": 13,
   "metadata": {},
   "outputs": [
    {
     "name": "stdout",
     "output_type": "stream",
     "text": [
      "Accuracy for Adaboost classifier\n",
      "----------------------------------------\n",
      "Training set: 0.8112033195020747\n",
      "Validation set: 0.7651632970451011\n"
     ]
    }
   ],
   "source": [
    "# determine accuracy for adaboost classifier\n",
    "adaboost_classifier(features_train, target_train, features_valid, target_valid)"
   ]
  },
  {
   "cell_type": "markdown",
   "metadata": {},
   "source": [
    "The AdaBoost classifier gives us an accuracy score similar to the decision tree classifier accuracy score at `max_depth` of 3. Let's try out the Random forest classifier. "
   ]
  },
  {
   "cell_type": "markdown",
   "metadata": {},
   "source": [
    "##### Random Forest Classifier"
   ]
  },
  {
   "cell_type": "code",
   "execution_count": 14,
   "metadata": {},
   "outputs": [],
   "source": [
    "# create the random forest classifier model\n",
    "def random_forest_classifier(X_train, y_train, X_valid, y_valid):\n",
    "    \"\"\"\n",
    "    This is a random forest classifier function developed to train\n",
    "    the model, make prediction on train and validation dataset, print\n",
    "    model accuracy for training and validation datasets and visualize\n",
    "    model accuracy scores on train and validation sets\n",
    "    \"\"\"\n",
    "    # define lists to collect scores\n",
    "    train_scores = []\n",
    "    valid_scores = []\n",
    "    # define the n_estimator range\n",
    "    estimator_depth = [i for i in range(1, 21)]\n",
    "    # create a loop for n_estimator from 1 to 21\n",
    "    for estimator in estimator_depth:\n",
    "        model = RandomForestClassifier(random_state=12345, n_estimators=estimator)\n",
    "        model.fit(X_train, y_train) # train the model \n",
    "        # make predictions on train set\n",
    "        train_predictions = model.predict(X_train)\n",
    "        train_predictions_acc = accuracy_score(y_train, train_predictions)\n",
    "        train_scores.append(train_predictions_acc)\n",
    "        # make predictions on validation set\n",
    "        predictions_valid = model.predict(X_valid)\n",
    "        predictions_valid_acc = accuracy_score(y_valid, predictions_valid)\n",
    "        valid_scores.append(predictions_valid_acc)\n",
    "        print('n_estimator and accuracy for random forest classifier')\n",
    "        print('-'*40)\n",
    "        print(\"\\033[1m\" + 'n_estimator = {}'.format(estimator) + \"\\033[0m\")\n",
    "        print('Training set: {:.3f}'.format(accuracy_score(y_train, train_predictions)))\n",
    "        print('Validation set: {:.3f}'.format(accuracy_score(y_valid, predictions_valid)))\n",
    "        print()\n",
    "    # plot of train and validation scores vs n_estimator\n",
    "    plt.figure(figsize=(10,6))\n",
    "    plt.plot(estimator_depth, train_scores, '-*', label='Train')\n",
    "    plt.plot(estimator_depth, valid_scores, '-o', label='Validation')\n",
    "    plt.title('Plot of train and validation scores vs n_estimator')\n",
    "    plt.xlabel('Number of estimators')\n",
    "    plt.ylabel('Accuracy')\n",
    "    plt.legend()\n",
    "    plt.show()"
   ]
  },
  {
   "cell_type": "code",
   "execution_count": 15,
   "metadata": {},
   "outputs": [
    {
     "name": "stdout",
     "output_type": "stream",
     "text": [
      "n_estimator and accuracy for random forest classifier\n",
      "----------------------------------------\n",
      "\u001b[1mn_estimator = 1\u001b[0m\n",
      "Training set: 0.902\n",
      "Validation set: 0.703\n",
      "\n",
      "n_estimator and accuracy for random forest classifier\n",
      "----------------------------------------\n",
      "\u001b[1mn_estimator = 2\u001b[0m\n",
      "Training set: 0.910\n",
      "Validation set: 0.757\n",
      "\n",
      "n_estimator and accuracy for random forest classifier\n",
      "----------------------------------------\n",
      "\u001b[1mn_estimator = 3\u001b[0m\n",
      "Training set: 0.959\n",
      "Validation set: 0.745\n",
      "\n",
      "n_estimator and accuracy for random forest classifier\n",
      "----------------------------------------\n",
      "\u001b[1mn_estimator = 4\u001b[0m\n",
      "Training set: 0.948\n",
      "Validation set: 0.765\n",
      "\n",
      "n_estimator and accuracy for random forest classifier\n",
      "----------------------------------------\n",
      "\u001b[1mn_estimator = 5\u001b[0m\n",
      "Training set: 0.971\n",
      "Validation set: 0.762\n",
      "\n",
      "n_estimator and accuracy for random forest classifier\n",
      "----------------------------------------\n",
      "\u001b[1mn_estimator = 6\u001b[0m\n",
      "Training set: 0.965\n",
      "Validation set: 0.770\n",
      "\n",
      "n_estimator and accuracy for random forest classifier\n",
      "----------------------------------------\n",
      "\u001b[1mn_estimator = 7\u001b[0m\n",
      "Training set: 0.979\n",
      "Validation set: 0.771\n",
      "\n",
      "n_estimator and accuracy for random forest classifier\n",
      "----------------------------------------\n",
      "\u001b[1mn_estimator = 8\u001b[0m\n",
      "Training set: 0.972\n",
      "Validation set: 0.787\n",
      "\n",
      "n_estimator and accuracy for random forest classifier\n",
      "----------------------------------------\n",
      "\u001b[1mn_estimator = 9\u001b[0m\n",
      "Training set: 0.982\n",
      "Validation set: 0.784\n",
      "\n",
      "n_estimator and accuracy for random forest classifier\n",
      "----------------------------------------\n",
      "\u001b[1mn_estimator = 10\u001b[0m\n",
      "Training set: 0.980\n",
      "Validation set: 0.788\n",
      "\n",
      "n_estimator and accuracy for random forest classifier\n",
      "----------------------------------------\n",
      "\u001b[1mn_estimator = 11\u001b[0m\n",
      "Training set: 0.988\n",
      "Validation set: 0.781\n",
      "\n",
      "n_estimator and accuracy for random forest classifier\n",
      "----------------------------------------\n",
      "\u001b[1mn_estimator = 12\u001b[0m\n",
      "Training set: 0.984\n",
      "Validation set: 0.782\n",
      "\n",
      "n_estimator and accuracy for random forest classifier\n",
      "----------------------------------------\n",
      "\u001b[1mn_estimator = 13\u001b[0m\n",
      "Training set: 0.990\n",
      "Validation set: 0.778\n",
      "\n",
      "n_estimator and accuracy for random forest classifier\n",
      "----------------------------------------\n",
      "\u001b[1mn_estimator = 14\u001b[0m\n",
      "Training set: 0.987\n",
      "Validation set: 0.785\n",
      "\n",
      "n_estimator and accuracy for random forest classifier\n",
      "----------------------------------------\n",
      "\u001b[1mn_estimator = 15\u001b[0m\n",
      "Training set: 0.992\n",
      "Validation set: 0.784\n",
      "\n",
      "n_estimator and accuracy for random forest classifier\n",
      "----------------------------------------\n",
      "\u001b[1mn_estimator = 16\u001b[0m\n",
      "Training set: 0.990\n",
      "Validation set: 0.784\n",
      "\n",
      "n_estimator and accuracy for random forest classifier\n",
      "----------------------------------------\n",
      "\u001b[1mn_estimator = 17\u001b[0m\n",
      "Training set: 0.993\n",
      "Validation set: 0.778\n",
      "\n",
      "n_estimator and accuracy for random forest classifier\n",
      "----------------------------------------\n",
      "\u001b[1mn_estimator = 18\u001b[0m\n",
      "Training set: 0.992\n",
      "Validation set: 0.787\n",
      "\n",
      "n_estimator and accuracy for random forest classifier\n",
      "----------------------------------------\n",
      "\u001b[1mn_estimator = 19\u001b[0m\n",
      "Training set: 0.995\n",
      "Validation set: 0.787\n",
      "\n",
      "n_estimator and accuracy for random forest classifier\n",
      "----------------------------------------\n",
      "\u001b[1mn_estimator = 20\u001b[0m\n",
      "Training set: 0.995\n",
      "Validation set: 0.790\n",
      "\n"
     ]
    },
    {
     "data": {
      "image/png": "[encoded data removed]",
      "text/plain": [
       "<Figure size 720x432 with 1 Axes>"
      ]
     },
     "metadata": {
      "needs_background": "light"
     },
     "output_type": "display_data"
    }
   ],
   "source": [
    "# determine accuracy for random forest classifier\n",
    "random_forest_classifier(features_train, target_train, features_valid, target_valid)"
   ]
  },
  {
   "cell_type": "markdown",
   "metadata": {},
   "source": [
    "In tuning hyperparameters for the random forest classifier, we make the `random_state` parameter pseudorandomness static. We also set the number of trees in the forest using `n_estimators` hyperparameter. Using n_estimator value of 10, the random forest classifier gave an accuracy of 98.0% for the training data, and 78.80% for the validation data."
   ]
  },
  {
   "cell_type": "markdown",
   "metadata": {},
   "source": [
    "**Conclusion**\n",
    "\n",
    "From the investigation of different model quality, we can see that at `n_estimators` value of 10, the random forest gives an accuracy of 98.0% for the training data, and 78.80% for the validation data. The logistic regression model was the least accurate model with an accuracy of 70.28% for the training set, and about 69.98% for the validation sets. We proceed to use the random forest classifier to test prediction on the unseen test data."
   ]
  },
  {
   "cell_type": "markdown",
   "metadata": {},
   "source": [
    "<div id=\"check_quality\">\n",
    "    <h2>Check model quality</h2> \n",
    "</div>"
   ]
  },
  {
   "cell_type": "markdown",
   "metadata": {},
   "source": [
    "#### Model testing"
   ]
  },
  {
   "cell_type": "markdown",
   "metadata": {},
   "source": [
    "The result of the previous section suggested that random forest classifier was perhaps the most accurate model. Using this model as our final model, we can make predictions using the test set."
   ]
  },
  {
   "cell_type": "code",
   "execution_count": 16,
   "metadata": {},
   "outputs": [
    {
     "name": "stdout",
     "output_type": "stream",
     "text": [
      "Test set: 0.7869362363919129\n"
     ]
    }
   ],
   "source": [
    "# Testing the random forest classifier model quality\n",
    "model = RandomForestClassifier(random_state=12345, n_estimators=10)\n",
    "model.fit(features_train, target_train) # train the model \n",
    "model.score(features_train, target_train) # check the model's accuracy with score() method\n",
    "test_predictions = model.predict(features_test) # make predictions on test set    \n",
    "\n",
    "print('Test set:', accuracy_score(target_test, test_predictions))"
   ]
  },
  {
   "cell_type": "markdown",
   "metadata": {},
   "source": [
    "Using the random forest classifier, we tested the model with the test set to obtain an **accuracy score of 79%.**"
   ]
  },
  {
   "cell_type": "markdown",
   "metadata": {},
   "source": [
    "<div id=\"sanity_check\">\n",
    "    <h2>Sanity check the model</h2> \n",
    "</div>"
   ]
  },
  {
   "cell_type": "markdown",
   "metadata": {},
   "source": [
    "In this section, we want to get an idea of the accuracy of the model on our validation set. We can fit the model on the training set and make predictions on the validation set, and then evaluate the effectiveness of our algorithm. A better way to judge the effectiveness of the machine learning algorithm is to compute the precision, recall, and F1 score. We would also look at other metrics like balanced accuracy score, ROC score, confusion matrix, and classification report."
   ]
  },
  {
   "cell_type": "markdown",
   "metadata": {},
   "source": [
    "##### Confusion Matrix, Precision, Recall, F1-score, Accuracy score, ROC score"
   ]
  },
  {
   "cell_type": "code",
   "execution_count": 17,
   "metadata": {},
   "outputs": [],
   "source": [
    "# function to compute the precision, recall, and F1 score\n",
    "def show_sanity_check(X_train, y_train, X_valid, y_valid):\n",
    "    \"\"\"\n",
    "    This function computes the confusion matrix, precision, recall,\n",
    "    F1-score, accuracy score, balanced accuracy score, ROC score as\n",
    "    a way to judge the effectiveness of the machine learning algorithm\n",
    "    \"\"\"\n",
    "    model = RandomForestClassifier(random_state=12345)\n",
    "    model.fit(X_train, y_train)\n",
    "    predictions_valid = model.predict(X_valid) \n",
    "    print(\"\\033[1m\" + 'Confusion Matrix' + \"\\033[0m\")\n",
    "    print('-'*50)\n",
    "    print(confusion_matrix(y_valid, predictions_valid))\n",
    "    print()\n",
    "    print(\"\\033[1m\" + 'Recall: ' + \"\\033[0m\", recall_score(y_valid, predictions_valid))\n",
    "    print()\n",
    "    print(\"\\033[1m\" + 'Precision: ' + \"\\033[0m\", '{:.3f}'.format(precision_score(y_valid, predictions_valid)))\n",
    "    print()\n",
    "    print(\"\\033[1m\" + 'F1-score: ' + \"\\033[0m\", '{:.3f}'.format(f1_score(y_valid, predictions_valid)))\n",
    "    print()\n",
    "    print(\"\\033[1m\" + 'Accuracy Score: ' + \"\\033[0m\", '{:.2%}'.format(accuracy_score(y_valid, predictions_valid)))\n",
    "    print()\n",
    "    print(\"\\033[1m\" + 'Balanced Accuracy Score: ' + \"\\033[0m\", '{:.2%}'.format(balanced_accuracy_score(y_valid, predictions_valid)))\n",
    "    print()\n",
    "    print(\"\\033[1m\" + 'ROC Score: ' + \"\\033[0m\", '{:.2%}'.format(roc_auc_score(y_valid, predictions_valid)))\n",
    "    print()\n",
    "    print(\"\\033[1m\" + 'Classification report' + \"\\033[0m\")\n",
    "    print('-'*50)\n",
    "    print(classification_report(y_valid, predictions_valid))\n",
    "    print()"
   ]
  },
  {
   "cell_type": "code",
   "execution_count": 18,
   "metadata": {},
   "outputs": [
    {
     "name": "stdout",
     "output_type": "stream",
     "text": [
      "\u001b[1mConfusion Matrix\u001b[0m\n",
      "--------------------------------------------------\n",
      "[[401  42]\n",
      " [ 90 110]]\n",
      "\n",
      "\u001b[1mRecall: \u001b[0m 0.55\n",
      "\n",
      "\u001b[1mPrecision: \u001b[0m 0.724\n",
      "\n",
      "\u001b[1mF1-score: \u001b[0m 0.625\n",
      "\n",
      "\u001b[1mAccuracy Score: \u001b[0m 79.47%\n",
      "\n",
      "\u001b[1mBalanced Accuracy Score: \u001b[0m 72.76%\n",
      "\n",
      "\u001b[1mROC Score: \u001b[0m 72.76%\n",
      "\n",
      "\u001b[1mClassification report\u001b[0m\n",
      "--------------------------------------------------\n",
      "              precision    recall  f1-score   support\n",
      "\n",
      "           0       0.82      0.91      0.86       443\n",
      "           1       0.72      0.55      0.63       200\n",
      "\n",
      "    accuracy                           0.79       643\n",
      "   macro avg       0.77      0.73      0.74       643\n",
      "weighted avg       0.79      0.79      0.79       643\n",
      "\n",
      "\n"
     ]
    }
   ],
   "source": [
    "# display sanity check\n",
    "show_sanity_check(features_train, target_train, features_valid, target_valid)"
   ]
  },
  {
   "cell_type": "markdown",
   "metadata": {},
   "source": [
    "**Conclusion**\n",
    "\n",
    "The confusion matrix helps us gain insight into how well our predictions hold up to the actual values and how correct our predictions are. The precision of our model was 0.724, or when it predicts phone plan from subscribers' behavior, it is right 72% of the time. The Recall gives us a measure of how accurate our model is in identifying pattern in data. Clearly the recall is not close to one. We calculated the F1-score as 0.625. Our model accuracy was computed as 79%. Knowing about recall, precision, F1, and the ROC curve allows us to assess classification models and should make us think skeptically about anyone touting only the accuracy of a model, especially for imbalanced problems. As we have seen, accuracy does not provide a useful assessment on several crucial problems, but now we know how to employ smarter metrics!"
   ]
  },
  {
   "cell_type": "markdown",
   "metadata": {},
   "source": [
    "<div id=\"overall_conclusion\">\n",
    "    <h2>Overall conclusion</h2> \n",
    "</div>"
   ]
  },
  {
   "cell_type": "markdown",
   "metadata": {},
   "source": [
    "In the first section, we looked at the structure and shape of the data. We observed that there are no duplicated rows, or missing values as expected. From the shape of the data, the data have 5 columns and 3214 rows. We then split the source dataset into a training set, validation set, and test set using a ratio 3:1:1 or 60% training set, 20% validation set, and 20% testing sets. The data after the split now contains 1928 rows for the train sets, 643 rows for the validation sets, and 643 rows for the testing sets. We then proceeded to investigate the quality of different models by changing hyperparameters. We did this for decision tree classifier, random forest classifier, adaboost classifier, and the logistic regression algorithms. The random forest classifier turned out to be the best model for our application.\n",
    "\n",
    "From the investigation of different model quality, we can see that with an `n_estimators` value of 10, the random forest gives an accuracy of 98.0% for the training data, and 78.80% for the validation data. We choose this hyperparameter because we don't want the model to be too complex that it overfits the data, or to simple that it underfit the data. The `n_estimators` value of 10 gave us a balance between bias and variance - bias variance tradeoff.\n",
    "\n",
    "The logistic regression model was the least accurate model with an accuracy of 70.28% for the training set, and about 69.98% for the validation sets. We note that the logistic regression underfitted the data significantly. We proceed to use the random forest classifier to test prediction on the unseen test data. Using the random forest classifier, we tested the model with the test set to obtain an accuracy score of 79%. As an additional step to sanity check the model, we computed the precision, F1-score, precision, recall score, balanced accuracy score, ROC score, confusion matrix, and classification report.\n",
    "\n",
    "At the end of the project, we achieve our objectives of developing a model with the highest possible accuracy. The threshold for accuracy was 75% from the business task. Our model obtained an accuracy of **79%**. The model clearly achieved what the business task required which was to develop a model that will pick the right plan. In order words, if we use the model to predict the right phone plan for subscribers', we would be right 79% of the time."
   ]
  },
  {
   "cell_type": "code",
   "execution_count": null,
   "metadata": {},
   "outputs": [],
   "source": []
  }
 ],
 "metadata": {
  "kernelspec": {
   "display_name": "Python 3",
   "language": "python",
   "name": "python3"
  },
  "language_info": {
   "codemirror_mode": {
    "name": "ipython",
    "version": 3
   },
   "file_extension": ".py",
   "mimetype": "text/x-python",
   "name": "python",
   "nbconvert_exporter": "python",
   "pygments_lexer": "ipython3",
   "version": "3.8.5"
  }
 },
 "nbformat": 4,
 "nbformat_minor": 4
}
